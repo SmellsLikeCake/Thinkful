{
 "cells": [
  {
   "cell_type": "code",
   "execution_count": 10,
   "metadata": {},
   "outputs": [],
   "source": [
    "import pandas as pd\n",
    "import numpy as np\n",
    "import scipy\n",
    "import matplotlib.pyplot as plt\n",
    "%matplotlib inline\n",
    "import seaborn as sns\n",
    "\n",
    "from sklearn import ensemble\n",
    "from sklearn import datasets\n",
    "from sklearn.utils import shuffle\n",
    "from sklearn.metrics import mean_squared_error"
   ]
  },
  {
   "cell_type": "markdown",
   "metadata": {},
   "source": [
    "## Load data and set x, y, training and test sets"
   ]
  },
  {
   "cell_type": "code",
   "execution_count": 2,
   "metadata": {},
   "outputs": [],
   "source": [
    "df = pd.read_csv((\n",
    "    \"https://raw.githubusercontent.com/Thinkful-Ed/data-201-resources/\"\n",
    "    \"master/ESS_practice_data/ESSdata_Thinkful.csv\")).dropna()"
   ]
  },
  {
   "cell_type": "code",
   "execution_count": 3,
   "metadata": {},
   "outputs": [],
   "source": [
    "y = df['partner'] -1\n",
    "x = df.loc[:, ~df.columns.isin(['partner', 'cntry', 'idno'])]\n",
    "\n",
    "x = pd.concat([x, pd.get_dummies(df['cntry'])], axis=1)\n",
    "offset = int(x.shape[0] * 0.9)\n",
    "x_train, y_train = x[:offset], y[:offset]\n",
    "x_test, y_test = x[offset:], y[offset:]"
   ]
  },
  {
   "cell_type": "markdown",
   "metadata": {},
   "source": [
    "## Model 1 - Base model"
   ]
  },
  {
   "cell_type": "code",
   "execution_count": 34,
   "metadata": {},
   "outputs": [
    {
     "name": "stdout",
     "output_type": "stream",
     "text": [
      "Training set accuracy:\n",
      "Percent Type I errors: 0.04650845608292417\n",
      "Percent Type II errors: 0.17607746863066012 \n",
      "\n",
      "Test set accuracy:\n",
      "Percent Type I errors: 0.06257668711656442\n",
      "Percent Type II errors: 0.18527607361963191\n"
     ]
    }
   ],
   "source": [
    "params = {'n_estimators': 500,\n",
    "         'max_depth' : 2,\n",
    "          'loss': 'deviance',\n",
    "          'random_state': 448\n",
    "         }\n",
    "\n",
    "clf = ensemble.GradientBoostingClassifier(**params)\n",
    "clf.fit(x_train, y_train)\n",
    "\n",
    "predict_train = clf.predict(x_train)\n",
    "predict_test = clf.predict(x_test)\n",
    "\n",
    "table_train = pd.crosstab(y_train, predict_train, margins=True)\n",
    "table_test = pd.crosstab(y_test, predict_test, margins=True)\n",
    "\n",
    "train_tI_errors = table_train.loc[0.0, 1.0] / table_train.loc['All','All']\n",
    "train_tII_errors = table_train.loc[1.0, 0.0] / table_train.loc['All', 'All']\n",
    "\n",
    "test_tI_errors = table_test.loc[0.0, 1.0]/table_test.loc['All', 'All']\n",
    "test_tII_errors = table_test.loc[1.0, 0.0]/table_test.loc['All', 'All']\n",
    "\n",
    "print((\n",
    "    'Training set accuracy:\\n'\n",
    "    'Percent Type I errors: {}\\n'\n",
    "    'Percent Type II errors: {} \\n\\n'\n",
    "    'Test set accuracy:\\n'\n",
    "    'Percent Type I errors: {}\\n'\n",
    "    'Percent Type II errors: {}'\n",
    ").format(train_tI_errors, train_tII_errors, test_tI_errors, test_tII_errors))"
   ]
  },
  {
   "cell_type": "code",
   "execution_count": 6,
   "metadata": {},
   "outputs": [
    {
     "data": {
      "image/png": "[encoded data removed]",
      "text/plain": [
       "<Figure size 432x288 with 1 Axes>"
      ]
     },
     "metadata": {
      "needs_background": "light"
     },
     "output_type": "display_data"
    }
   ],
   "source": [
    "feature_importance = clf.feature_importances_\n",
    "feature_importance = 100.0* (feature_importance / feature_importance.max())\n",
    "sorted_idx = np.argsort(feature_importance)\n",
    "pos = np.arange(sorted_idx.shape[0]) + .5\n",
    "\n",
    "plt.subplot(1, 2, 2)\n",
    "plt.barh(pos, feature_importance[sorted_idx], align='center')\n",
    "plt.yticks(pos, x.columns[sorted_idx])\n",
    "plt.xlabel('Relative importance')\n",
    "plt.title('Variable importance')\n",
    "plt.show()"
   ]
  },
  {
   "cell_type": "markdown",
   "metadata": {},
   "source": [
    "## Model 2 - creating new features"
   ]
  },
  {
   "cell_type": "code",
   "execution_count": 8,
   "metadata": {},
   "outputs": [
    {
     "data": {
      "text/html": [
       "<div>\n",
       "<style scoped>\n",
       "    .dataframe tbody tr th:only-of-type {\n",
       "        vertical-align: middle;\n",
       "    }\n",
       "\n",
       "    .dataframe tbody tr th {\n",
       "        vertical-align: top;\n",
       "    }\n",
       "\n",
       "    .dataframe thead th {\n",
       "        text-align: right;\n",
       "    }\n",
       "</style>\n",
       "<table border=\"1\" class=\"dataframe\">\n",
       "  <thead>\n",
       "    <tr style=\"text-align: right;\">\n",
       "      <th></th>\n",
       "      <th>year</th>\n",
       "      <th>tvtot</th>\n",
       "      <th>ppltrst</th>\n",
       "      <th>pplfair</th>\n",
       "      <th>pplhlp</th>\n",
       "      <th>happy</th>\n",
       "      <th>sclmeet</th>\n",
       "      <th>sclact</th>\n",
       "      <th>gndr</th>\n",
       "      <th>agea</th>\n",
       "      <th>CH</th>\n",
       "      <th>CZ</th>\n",
       "      <th>DE</th>\n",
       "      <th>ES</th>\n",
       "      <th>NO</th>\n",
       "      <th>SE</th>\n",
       "    </tr>\n",
       "  </thead>\n",
       "  <tbody>\n",
       "    <tr>\n",
       "      <th>0</th>\n",
       "      <td>6</td>\n",
       "      <td>3.0</td>\n",
       "      <td>3.0</td>\n",
       "      <td>10.0</td>\n",
       "      <td>5.0</td>\n",
       "      <td>8.0</td>\n",
       "      <td>5.0</td>\n",
       "      <td>4.0</td>\n",
       "      <td>2.0</td>\n",
       "      <td>60.0</td>\n",
       "      <td>1</td>\n",
       "      <td>0</td>\n",
       "      <td>0</td>\n",
       "      <td>0</td>\n",
       "      <td>0</td>\n",
       "      <td>0</td>\n",
       "    </tr>\n",
       "    <tr>\n",
       "      <th>1</th>\n",
       "      <td>6</td>\n",
       "      <td>6.0</td>\n",
       "      <td>5.0</td>\n",
       "      <td>7.0</td>\n",
       "      <td>5.0</td>\n",
       "      <td>9.0</td>\n",
       "      <td>3.0</td>\n",
       "      <td>2.0</td>\n",
       "      <td>2.0</td>\n",
       "      <td>59.0</td>\n",
       "      <td>1</td>\n",
       "      <td>0</td>\n",
       "      <td>0</td>\n",
       "      <td>0</td>\n",
       "      <td>0</td>\n",
       "      <td>0</td>\n",
       "    </tr>\n",
       "    <tr>\n",
       "      <th>2</th>\n",
       "      <td>6</td>\n",
       "      <td>1.0</td>\n",
       "      <td>8.0</td>\n",
       "      <td>8.0</td>\n",
       "      <td>8.0</td>\n",
       "      <td>7.0</td>\n",
       "      <td>6.0</td>\n",
       "      <td>3.0</td>\n",
       "      <td>1.0</td>\n",
       "      <td>24.0</td>\n",
       "      <td>1</td>\n",
       "      <td>0</td>\n",
       "      <td>0</td>\n",
       "      <td>0</td>\n",
       "      <td>0</td>\n",
       "      <td>0</td>\n",
       "    </tr>\n",
       "    <tr>\n",
       "      <th>3</th>\n",
       "      <td>6</td>\n",
       "      <td>4.0</td>\n",
       "      <td>6.0</td>\n",
       "      <td>6.0</td>\n",
       "      <td>7.0</td>\n",
       "      <td>10.0</td>\n",
       "      <td>6.0</td>\n",
       "      <td>2.0</td>\n",
       "      <td>2.0</td>\n",
       "      <td>64.0</td>\n",
       "      <td>1</td>\n",
       "      <td>0</td>\n",
       "      <td>0</td>\n",
       "      <td>0</td>\n",
       "      <td>0</td>\n",
       "      <td>0</td>\n",
       "    </tr>\n",
       "    <tr>\n",
       "      <th>4</th>\n",
       "      <td>6</td>\n",
       "      <td>5.0</td>\n",
       "      <td>6.0</td>\n",
       "      <td>7.0</td>\n",
       "      <td>5.0</td>\n",
       "      <td>8.0</td>\n",
       "      <td>7.0</td>\n",
       "      <td>2.0</td>\n",
       "      <td>2.0</td>\n",
       "      <td>55.0</td>\n",
       "      <td>1</td>\n",
       "      <td>0</td>\n",
       "      <td>0</td>\n",
       "      <td>0</td>\n",
       "      <td>0</td>\n",
       "      <td>0</td>\n",
       "    </tr>\n",
       "  </tbody>\n",
       "</table>\n",
       "</div>"
      ],
      "text/plain": [
       "   year  tvtot  ppltrst  pplfair  pplhlp  happy  sclmeet  sclact  gndr  agea  \\\n",
       "0     6    3.0      3.0     10.0     5.0    8.0      5.0     4.0   2.0  60.0   \n",
       "1     6    6.0      5.0      7.0     5.0    9.0      3.0     2.0   2.0  59.0   \n",
       "2     6    1.0      8.0      8.0     8.0    7.0      6.0     3.0   1.0  24.0   \n",
       "3     6    4.0      6.0      6.0     7.0   10.0      6.0     2.0   2.0  64.0   \n",
       "4     6    5.0      6.0      7.0     5.0    8.0      7.0     2.0   2.0  55.0   \n",
       "\n",
       "   CH  CZ  DE  ES  NO  SE  \n",
       "0   1   0   0   0   0   0  \n",
       "1   1   0   0   0   0   0  \n",
       "2   1   0   0   0   0   0  \n",
       "3   1   0   0   0   0   0  \n",
       "4   1   0   0   0   0   0  "
      ]
     },
     "execution_count": 8,
     "metadata": {},
     "output_type": "execute_result"
    }
   ],
   "source": [
    "x.head()"
   ]
  },
  {
   "cell_type": "code",
   "execution_count": 11,
   "metadata": {},
   "outputs": [
    {
     "data": {
      "image/png": "[encoded data removed]",
      "text/plain": [
       "<Figure size 432x288 with 2 Axes>"
      ]
     },
     "metadata": {
      "needs_background": "light"
     },
     "output_type": "display_data"
    }
   ],
   "source": [
    "## Plot correlation map\n",
    "\n",
    "x_y_train = x_train.copy()\n",
    "x_y_train['partner'] = y_train\n",
    "sns.heatmap(x_y_train.corr(), cmap='PRGn', center=0)\n",
    "plt.show()"
   ]
  },
  {
   "cell_type": "code",
   "execution_count": 12,
   "metadata": {},
   "outputs": [],
   "source": [
    "## Suspect there could be interaction between:\n",
    "## - happiness and social meetups\n",
    "## - happiness and social activities\n",
    "## - happiness and age\n",
    "## - ppltrst, pplfair and pplhlp\n",
    "\n",
    "x_2 = x.copy()\n",
    "x_2['happ_sclmeet'] = x_2['happy'] * x_2['sclmeet']\n",
    "x_2['happ_sclact'] = x_2['happy'] * x_2['sclact']\n",
    "x_2['happ_age'] = x_2['happy'] * x_2['agea']\n",
    "x_2['trst_fair'] = x_2['ppltrst'] * x_2['pplfair']\n",
    "x_2['trst_hlp'] = x_2['ppltrst'] * x_2['pplhlp']\n",
    "x_2['fair_hlp'] = x_2['pplfair'] * x_2['pplhlp']"
   ]
  },
  {
   "cell_type": "code",
   "execution_count": 13,
   "metadata": {},
   "outputs": [],
   "source": [
    "x_2_train = x_2[:offset]\n",
    "x_2_test = x_2[offset:]"
   ]
  },
  {
   "cell_type": "code",
   "execution_count": 14,
   "metadata": {},
   "outputs": [
    {
     "name": "stdout",
     "output_type": "stream",
     "text": [
      "Training set accuracy:\n",
      "Percent Type I errors: 0.040780141843971635\n",
      "Percent Type II errors: 0.1702127659574468\n",
      "\n",
      "Test set accuracy:\n",
      "Percent Type I errors: 0.06503067484662577\n",
      "Percent Type II errors: 0.19141104294478528\n"
     ]
    }
   ],
   "source": [
    "clf_2 = ensemble.GradientBoostingClassifier(**params)\n",
    "clf_2.fit(x_2_train, y_train)\n",
    "\n",
    "predict_2_train = clf_2.predict(x_2_train)\n",
    "predict_2_test = clf_2.predict(x_2_test)\n",
    "\n",
    "table_2_train = pd.crosstab(y_train, predict_2_train, margins=True)\n",
    "table_2_test = pd.crosstab(y_test, predict_2_test, margins = True)\n",
    "\n",
    "train_2_tI_errors = table_2_train.loc[0.0, 1.0] / table_2_train.loc['All', 'All']\n",
    "train_2_tII_errors = table_2_train.loc[1.0, 0.0] / table_2_train.loc['All', 'All']\n",
    "\n",
    "test_2_tI_errors = table_2_test.loc[0.0, 1.0] / table_2_test.loc['All', 'All']\n",
    "test_2_tII_errors = table_2_test.loc[1.0, 0.0] / table_2_test.loc['All', 'All']\n",
    "\n",
    "print((\n",
    "    'Training set accuracy:\\n'\n",
    "    'Percent Type I errors: {}\\n'\n",
    "    'Percent Type II errors: {}\\n\\n'\n",
    "    'Test set accuracy:\\n'\n",
    "    'Percent Type I errors: {}\\n'\n",
    "    'Percent Type II errors: {}'\n",
    ").format(train_2_tI_errors, train_2_tII_errors, test_2_tI_errors, test_2_tII_errors))\n"
   ]
  },
  {
   "cell_type": "code",
   "execution_count": 15,
   "metadata": {},
   "outputs": [],
   "source": [
    "## Training set has better accuracy but the test set does not.\n",
    "## This suggests the additional features create more overfitting.\n"
   ]
  },
  {
   "cell_type": "markdown",
   "metadata": {},
   "source": [
    "## Models 3-6 - Use subsampling to reduce overfitting"
   ]
  },
  {
   "cell_type": "code",
   "execution_count": 31,
   "metadata": {},
   "outputs": [
    {
     "name": "stdout",
     "output_type": "stream",
     "text": [
      "Training set accuracy:\n",
      "Percent Type I errors: 0.0463720676486634\n",
      "Percent Type II errors: 0.17144026186579378 \n",
      "\n",
      "Test set accuracy:\n",
      "Percent Type I errors: 0.06503067484662577\n",
      "Percent Type II errors: 0.1901840490797546\n"
     ]
    }
   ],
   "source": [
    "## Use original x, subsample = 0.5 and a random state for comparison\n",
    "\n",
    "params_3 = {'n_estimators': 500,\n",
    "         'max_depth' : 2,\n",
    "          'loss': 'deviance',\n",
    "          'subsample': 0.5,\n",
    "            'random_state': 448\n",
    "         }\n",
    "\n",
    "clf_3 = ensemble.GradientBoostingClassifier(**params_3)\n",
    "clf_3.fit(x_train, y_train)\n",
    "\n",
    "predict_3_train = clf_3.predict(x_train)\n",
    "predict_3_test = clf_3.predict(x_test)\n",
    "\n",
    "table_3_train = pd.crosstab(y_train, predict_3_train, margins=True)\n",
    "table_3_test = pd.crosstab(y_test, predict_3_test, margins=True)\n",
    "\n",
    "train_3_tI_errors = table_3_train.loc[0.0, 1.0] / table_3_train.loc['All','All']\n",
    "train_3_tII_errors = table_3_train.loc[1.0, 0.0] / table_3_train.loc['All', 'All']\n",
    "\n",
    "test_3_tI_errors = table_3_test.loc[0.0, 1.0]/table_3_test.loc['All', 'All']\n",
    "test_3_tII_errors = table_3_test.loc[1.0, 0.0]/table_3_test.loc['All', 'All']\n",
    "\n",
    "print((\n",
    "    'Training set accuracy:\\n'\n",
    "    'Percent Type I errors: {}\\n'\n",
    "    'Percent Type II errors: {} \\n\\n'\n",
    "    'Test set accuracy:\\n'\n",
    "    'Percent Type I errors: {}\\n'\n",
    "    'Percent Type II errors: {}'\n",
    ").format(train_3_tI_errors, train_3_tII_errors, test_3_tI_errors, test_3_tII_errors))"
   ]
  },
  {
   "cell_type": "code",
   "execution_count": 20,
   "metadata": {},
   "outputs": [],
   "source": [
    "## Subsampling makes for slightly worse performance in the test\n",
    "## set at = 0.5."
   ]
  },
  {
   "cell_type": "code",
   "execution_count": 30,
   "metadata": {},
   "outputs": [
    {
     "name": "stdout",
     "output_type": "stream",
     "text": [
      "Training set accuracy:\n",
      "Percent Type I errors: 0.04719039825422804\n",
      "Percent Type II errors: 0.17157665030005456 \n",
      "\n",
      "Test set accuracy:\n",
      "Percent Type I errors: 0.07116564417177915\n",
      "Percent Type II errors: 0.18159509202453988\n"
     ]
    }
   ],
   "source": [
    "## Use original x, subsample of 0.75 and same random state\n",
    "\n",
    "params_4 = {'n_estimators': 500,\n",
    "         'max_depth' : 2,\n",
    "          'loss': 'deviance',\n",
    "          'subsample': 0.75,\n",
    "            'random_state': 448\n",
    "         }\n",
    "\n",
    "clf_4 = ensemble.GradientBoostingClassifier(**params_4)\n",
    "clf_4.fit(x_train, y_train)\n",
    "\n",
    "predict_4_train = clf_4.predict(x_train)\n",
    "predict_4_test = clf_4.predict(x_test)\n",
    "\n",
    "table_4_train = pd.crosstab(y_train, predict_4_train, margins=True)\n",
    "table_4_test = pd.crosstab(y_test, predict_4_test, margins=True)\n",
    "\n",
    "train_4_tI_errors = table_4_train.loc[0.0, 1.0] / table_4_train.loc['All','All']\n",
    "train_4_tII_errors = table_4_train.loc[1.0, 0.0] / table_4_train.loc['All', 'All']\n",
    "\n",
    "test_4_tI_errors = table_4_test.loc[0.0, 1.0]/table_4_test.loc['All', 'All']\n",
    "test_4_tII_errors = table_4_test.loc[1.0, 0.0]/table_4_test.loc['All', 'All']\n",
    "\n",
    "print((\n",
    "    'Training set accuracy:\\n'\n",
    "    'Percent Type I errors: {}\\n'\n",
    "    'Percent Type II errors: {} \\n\\n'\n",
    "    'Test set accuracy:\\n'\n",
    "    'Percent Type I errors: {}\\n'\n",
    "    'Percent Type II errors: {}'\n",
    ").format(train_4_tI_errors, train_4_tII_errors, test_4_tI_errors, test_4_tII_errors))"
   ]
  },
  {
   "cell_type": "code",
   "execution_count": 22,
   "metadata": {},
   "outputs": [],
   "source": [
    "## When subsampling is set to 0.75, the false positives increase by\n",
    "## around 0.5% and false negatives decrease by a similar amount."
   ]
  },
  {
   "cell_type": "code",
   "execution_count": 29,
   "metadata": {},
   "outputs": [
    {
     "name": "stdout",
     "output_type": "stream",
     "text": [
      "Training set accuracy:\n",
      "Percent Type I errors: 0.04800872885979269\n",
      "Percent Type II errors: 0.171303873431533 \n",
      "\n",
      "Test set accuracy:\n",
      "Percent Type I errors: 0.0736196319018405\n",
      "Percent Type II errors: 0.18650306748466258\n"
     ]
    }
   ],
   "source": [
    "## Use original x, subsample = 0.25 and same random state\n",
    "\n",
    "params_5 = {'n_estimators': 500,\n",
    "         'max_depth' : 2,\n",
    "          'loss': 'deviance',\n",
    "          'subsample': 0.25,\n",
    "            'random_state': 448\n",
    "         }\n",
    "\n",
    "clf_5 = ensemble.GradientBoostingClassifier(**params_5)\n",
    "clf_5.fit(x_train, y_train)\n",
    "\n",
    "predict_5_train = clf_5.predict(x_train)\n",
    "predict_5_test = clf_5.predict(x_test)\n",
    "\n",
    "table_5_train = pd.crosstab(y_train, predict_5_train, margins=True)\n",
    "table_5_test = pd.crosstab(y_test, predict_5_test, margins=True)\n",
    "\n",
    "train_5_tI_errors = table_5_train.loc[0.0, 1.0] / table_5_train.loc['All','All']\n",
    "train_5_tII_errors = table_5_train.loc[1.0, 0.0] / table_5_train.loc['All', 'All']\n",
    "\n",
    "test_5_tI_errors = table_5_test.loc[0.0, 1.0]/table_5_test.loc['All', 'All']\n",
    "test_5_tII_errors = table_5_test.loc[1.0, 0.0]/table_5_test.loc['All', 'All']\n",
    "\n",
    "print((\n",
    "    'Training set accuracy:\\n'\n",
    "    'Percent Type I errors: {}\\n'\n",
    "    'Percent Type II errors: {} \\n\\n'\n",
    "    'Test set accuracy:\\n'\n",
    "    'Percent Type I errors: {}\\n'\n",
    "    'Percent Type II errors: {}'\n",
    ").format(train_5_tI_errors, train_5_tII_errors, test_5_tI_errors, test_5_tII_errors))"
   ]
  },
  {
   "cell_type": "code",
   "execution_count": 24,
   "metadata": {},
   "outputs": [],
   "source": [
    "## False positives increase by over 1% and false negatives show no change"
   ]
  },
  {
   "cell_type": "code",
   "execution_count": 32,
   "metadata": {},
   "outputs": [
    {
     "name": "stdout",
     "output_type": "stream",
     "text": [
      "Training set accuracy:\n",
      "Percent Type I errors: 0.04650845608292417\n",
      "Percent Type II errors: 0.1718494271685761 \n",
      "\n",
      "Test set accuracy:\n",
      "Percent Type I errors: 0.07116564417177915\n",
      "Percent Type II errors: 0.1754601226993865\n"
     ]
    }
   ],
   "source": [
    "## Use original x, subsample = 0.7 and same random state\n",
    "\n",
    "params_6 = {'n_estimators': 500,\n",
    "         'max_depth' : 2,\n",
    "          'loss': 'deviance',\n",
    "          'subsample': 0.85,\n",
    "            'random_state': 448\n",
    "         }\n",
    "\n",
    "clf_6 = ensemble.GradientBoostingClassifier(**params_6)\n",
    "clf_6.fit(x_train, y_train)\n",
    "\n",
    "predict_6_train = clf_6.predict(x_train)\n",
    "predict_6_test = clf_6.predict(x_test)\n",
    "\n",
    "table_6_train = pd.crosstab(y_train, predict_6_train, margins=True)\n",
    "table_6_test = pd.crosstab(y_test, predict_6_test, margins=True)\n",
    "\n",
    "train_6_tI_errors = table_6_train.loc[0.0, 1.0] / table_6_train.loc['All','All']\n",
    "train_6_tII_errors = table_6_train.loc[1.0, 0.0] / table_6_train.loc['All', 'All']\n",
    "\n",
    "test_6_tI_errors = table_6_test.loc[0.0, 1.0]/table_6_test.loc['All', 'All']\n",
    "test_6_tII_errors = table_6_test.loc[1.0, 0.0]/table_6_test.loc['All', 'All']\n",
    "\n",
    "print((\n",
    "    'Training set accuracy:\\n'\n",
    "    'Percent Type I errors: {}\\n'\n",
    "    'Percent Type II errors: {} \\n\\n'\n",
    "    'Test set accuracy:\\n'\n",
    "    'Percent Type I errors: {}\\n'\n",
    "    'Percent Type II errors: {}'\n",
    ").format(train_6_tI_errors, train_6_tII_errors, test_6_tI_errors, test_6_tII_errors))"
   ]
  },
  {
   "cell_type": "code",
   "execution_count": 33,
   "metadata": {},
   "outputs": [],
   "source": [
    "## Appears possible to reduce false negatives at a cost of increasing\n",
    "## false positives"
   ]
  },
  {
   "cell_type": "markdown",
   "metadata": {},
   "source": [
    "## Model 7 - try more iterations"
   ]
  },
  {
   "cell_type": "code",
   "execution_count": 35,
   "metadata": {},
   "outputs": [
    {
     "name": "stdout",
     "output_type": "stream",
     "text": [
      "Training set accuracy:\n",
      "Percent Type I errors: 0.044189852700491\n",
      "Percent Type II errors: 0.1692580469176214 \n",
      "\n",
      "Test set accuracy:\n",
      "Percent Type I errors: 0.07116564417177915\n",
      "Percent Type II errors: 0.18036809815950922\n"
     ]
    }
   ],
   "source": [
    "## Use original x, more iterations\n",
    "\n",
    "params_7 = {'n_estimators': 1000,\n",
    "         'max_depth' : 2,\n",
    "          'loss': 'deviance',\n",
    "            'random_state': 448\n",
    "         }\n",
    "\n",
    "clf_7 = ensemble.GradientBoostingClassifier(**params_7)\n",
    "clf_7.fit(x_train, y_train)\n",
    "\n",
    "predict_7_train = clf_7.predict(x_train)\n",
    "predict_7_test = clf_7.predict(x_test)\n",
    "\n",
    "table_7_train = pd.crosstab(y_train, predict_7_train, margins=True)\n",
    "table_7_test = pd.crosstab(y_test, predict_7_test, margins=True)\n",
    "\n",
    "train_7_tI_errors = table_7_train.loc[0.0, 1.0] / table_7_train.loc['All','All']\n",
    "train_7_tII_errors = table_7_train.loc[1.0, 0.0] / table_7_train.loc['All', 'All']\n",
    "\n",
    "test_7_tI_errors = table_7_test.loc[0.0, 1.0]/table_7_test.loc['All', 'All']\n",
    "test_7_tII_errors = table_7_test.loc[1.0, 0.0]/table_7_test.loc['All', 'All']\n",
    "\n",
    "print((\n",
    "    'Training set accuracy:\\n'\n",
    "    'Percent Type I errors: {}\\n'\n",
    "    'Percent Type II errors: {} \\n\\n'\n",
    "    'Test set accuracy:\\n'\n",
    "    'Percent Type I errors: {}\\n'\n",
    "    'Percent Type II errors: {}'\n",
    ").format(train_7_tI_errors, train_7_tII_errors, test_7_tI_errors, test_7_tII_errors))"
   ]
  },
  {
   "cell_type": "code",
   "execution_count": 36,
   "metadata": {},
   "outputs": [],
   "source": [
    "## More iterations improve false negatives but increase false positives"
   ]
  },
  {
   "cell_type": "markdown",
   "metadata": {},
   "source": [
    "## Model 8 - try exponential loss function"
   ]
  },
  {
   "cell_type": "code",
   "execution_count": 40,
   "metadata": {},
   "outputs": [
    {
     "name": "stdout",
     "output_type": "stream",
     "text": [
      "Training set accuracy:\n",
      "Percent Type I errors: 0.04841789416257501\n",
      "Percent Type II errors: 0.1778505182760502 \n",
      "\n",
      "Test set accuracy:\n",
      "Percent Type I errors: 0.0638036809815951\n",
      "Percent Type II errors: 0.18773006134969325\n"
     ]
    }
   ],
   "source": [
    "## Use original x, more iterations\n",
    "\n",
    "params_8 = {'n_estimators': 500,\n",
    "         'max_depth' : 2,\n",
    "          'loss': 'exponential',\n",
    "            'random_state': 448\n",
    "         }\n",
    "\n",
    "clf_8 = ensemble.GradientBoostingClassifier(**params_8)\n",
    "clf_8.fit(x_train, y_train)\n",
    "\n",
    "predict_8_train = clf_8.predict(x_train)\n",
    "predict_8_test = clf_8.predict(x_test)\n",
    "\n",
    "table_8_train = pd.crosstab(y_train, predict_8_train, margins=True)\n",
    "table_8_test = pd.crosstab(y_test, predict_8_test, margins=True)\n",
    "\n",
    "train_8_tI_errors = table_8_train.loc[0.0, 1.0] / table_8_train.loc['All','All']\n",
    "train_8_tII_errors = table_8_train.loc[1.0, 0.0] / table_8_train.loc['All', 'All']\n",
    "\n",
    "test_8_tI_errors = table_8_test.loc[0.0, 1.0]/table_8_test.loc['All', 'All']\n",
    "test_8_tII_errors = table_8_test.loc[1.0, 0.0]/table_8_test.loc['All', 'All']\n",
    "\n",
    "print((\n",
    "    'Training set accuracy:\\n'\n",
    "    'Percent Type I errors: {}\\n'\n",
    "    'Percent Type II errors: {} \\n\\n'\n",
    "    'Test set accuracy:\\n'\n",
    "    'Percent Type I errors: {}\\n'\n",
    "    'Percent Type II errors: {}'\n",
    ").format(train_8_tI_errors, train_8_tII_errors, test_8_tI_errors, test_8_tII_errors))"
   ]
  },
  {
   "cell_type": "code",
   "execution_count": 38,
   "metadata": {},
   "outputs": [],
   "source": [
    "## No improvement"
   ]
  },
  {
   "cell_type": "markdown",
   "metadata": {},
   "source": [
    "## Model 9 and 10 - Adjust learning rate"
   ]
  },
  {
   "cell_type": "code",
   "execution_count": 41,
   "metadata": {},
   "outputs": [
    {
     "name": "stdout",
     "output_type": "stream",
     "text": [
      "Training set accuracy:\n",
      "Percent Type I errors: 0.037506819421713036\n",
      "Percent Type II errors: 0.15616475722858703 \n",
      "\n",
      "Test set accuracy:\n",
      "Percent Type I errors: 0.07607361963190185\n",
      "Percent Type II errors: 0.18773006134969325\n"
     ]
    }
   ],
   "source": [
    "## Make later models more important\n",
    "\n",
    "## Use original x, learning rate increase\n",
    "\n",
    "params_9 = {'n_estimators': 500,\n",
    "         'max_depth' : 2,\n",
    "          'loss': 'deviance',\n",
    "            'random_state': 448,\n",
    "            'learning_rate': 0.5\n",
    "         }\n",
    "\n",
    "clf_9 = ensemble.GradientBoostingClassifier(**params_9)\n",
    "clf_9.fit(x_train, y_train)\n",
    "\n",
    "predict_9_train = clf_9.predict(x_train)\n",
    "predict_9_test = clf_9.predict(x_test)\n",
    "\n",
    "table_9_train = pd.crosstab(y_train, predict_9_train, margins=True)\n",
    "table_9_test = pd.crosstab(y_test, predict_9_test, margins=True)\n",
    "\n",
    "train_9_tI_errors = table_9_train.loc[0.0, 1.0] / table_9_train.loc['All','All']\n",
    "train_9_tII_errors = table_9_train.loc[1.0, 0.0] / table_9_train.loc['All', 'All']\n",
    "\n",
    "test_9_tI_errors = table_9_test.loc[0.0, 1.0]/table_9_test.loc['All', 'All']\n",
    "test_9_tII_errors = table_9_test.loc[1.0, 0.0]/table_9_test.loc['All', 'All']\n",
    "\n",
    "print((\n",
    "    'Training set accuracy:\\n'\n",
    "    'Percent Type I errors: {}\\n'\n",
    "    'Percent Type II errors: {} \\n\\n'\n",
    "    'Test set accuracy:\\n'\n",
    "    'Percent Type I errors: {}\\n'\n",
    "    'Percent Type II errors: {}'\n",
    ").format(train_9_tI_errors, train_9_tII_errors, test_9_tI_errors, test_9_tII_errors))"
   ]
  },
  {
   "cell_type": "code",
   "execution_count": 42,
   "metadata": {},
   "outputs": [
    {
     "name": "stdout",
     "output_type": "stream",
     "text": [
      "Training set accuracy:\n",
      "Percent Type I errors: 0.045553737043098744\n",
      "Percent Type II errors: 0.18398799781778505 \n",
      "\n",
      "Test set accuracy:\n",
      "Percent Type I errors: 0.05521472392638037\n",
      "Percent Type II errors: 0.19263803680981595\n"
     ]
    }
   ],
   "source": [
    "## Make later models more important\n",
    "\n",
    "## Use original x, learning rate decrease\n",
    "\n",
    "params_10 = {'n_estimators': 500,\n",
    "         'max_depth' : 2,\n",
    "          'loss': 'deviance',\n",
    "            'random_state': 448,\n",
    "            'learning_rate': 0.05\n",
    "         }\n",
    "\n",
    "clf_10 = ensemble.GradientBoostingClassifier(**params_10)\n",
    "clf_10.fit(x_train, y_train)\n",
    "\n",
    "predict_10_train = clf_10.predict(x_train)\n",
    "predict_10_test = clf_10.predict(x_test)\n",
    "\n",
    "table_10_train = pd.crosstab(y_train, predict_10_train, margins=True)\n",
    "table_10_test = pd.crosstab(y_test, predict_10_test, margins=True)\n",
    "\n",
    "train_10_tI_errors = table_10_train.loc[0.0, 1.0] / table_10_train.loc['All','All']\n",
    "train_10_tII_errors = table_10_train.loc[1.0, 0.0] / table_10_train.loc['All', 'All']\n",
    "\n",
    "test_10_tI_errors = table_10_test.loc[0.0, 1.0]/table_10_test.loc['All', 'All']\n",
    "test_10_tII_errors = table_10_test.loc[1.0, 0.0]/table_10_test.loc['All', 'All']\n",
    "\n",
    "print((\n",
    "    'Training set accuracy:\\n'\n",
    "    'Percent Type I errors: {}\\n'\n",
    "    'Percent Type II errors: {} \\n\\n'\n",
    "    'Test set accuracy:\\n'\n",
    "    'Percent Type I errors: {}\\n'\n",
    "    'Percent Type II errors: {}'\n",
    ").format(train_10_tI_errors, train_10_tII_errors, test_10_tI_errors, test_10_tII_errors))"
   ]
  },
  {
   "cell_type": "markdown",
   "metadata": {},
   "source": [
    "## Model 11 - Adjust max depth"
   ]
  },
  {
   "cell_type": "code",
   "execution_count": 47,
   "metadata": {},
   "outputs": [
    {
     "name": "stdout",
     "output_type": "stream",
     "text": [
      "Training set accuracy:\n",
      "Percent Type I errors: 0.01950354609929078\n",
      "Percent Type II errors: 0.11824877250409166 \n",
      "\n",
      "Test set accuracy:\n",
      "Percent Type I errors: 0.08588957055214724\n",
      "Percent Type II errors: 0.18159509202453988\n"
     ]
    }
   ],
   "source": [
    "## Make later models more important\n",
    "\n",
    "## Use original x, max depth = 4\n",
    "\n",
    "params_11 = {'n_estimators': 500,\n",
    "         'max_depth' : 4,\n",
    "          'loss': 'deviance',\n",
    "            'random_state': 448,\n",
    "         }\n",
    "\n",
    "clf_11 = ensemble.GradientBoostingClassifier(**params_11)\n",
    "clf_11.fit(x_train, y_train)\n",
    "\n",
    "predict_11_train = clf_11.predict(x_train)\n",
    "predict_11_test = clf_11.predict(x_test)\n",
    "\n",
    "table_11_train = pd.crosstab(y_train, predict_11_train, margins=True)\n",
    "table_11_test = pd.crosstab(y_test, predict_11_test, margins=True)\n",
    "\n",
    "train_11_tI_errors = table_11_train.loc[0.0, 1.0] / table_11_train.loc['All','All']\n",
    "train_11_tII_errors = table_11_train.loc[1.0, 0.0] / table_11_train.loc['All', 'All']\n",
    "\n",
    "test_11_tI_errors = table_11_test.loc[0.0, 1.0]/table_11_test.loc['All', 'All']\n",
    "test_11_tII_errors = table_11_test.loc[1.0, 0.0]/table_11_test.loc['All', 'All']\n",
    "\n",
    "print((\n",
    "    'Training set accuracy:\\n'\n",
    "    'Percent Type I errors: {}\\n'\n",
    "    'Percent Type II errors: {} \\n\\n'\n",
    "    'Test set accuracy:\\n'\n",
    "    'Percent Type I errors: {}\\n'\n",
    "    'Percent Type II errors: {}'\n",
    ").format(train_11_tI_errors, train_11_tII_errors, test_11_tI_errors, test_11_tII_errors))"
   ]
  },
  {
   "cell_type": "code",
   "execution_count": 48,
   "metadata": {},
   "outputs": [],
   "source": [
    "## Worse performance"
   ]
  },
  {
   "cell_type": "markdown",
   "metadata": {},
   "source": [
    "## Model 12 - subsampling and learning rate decrease"
   ]
  },
  {
   "cell_type": "code",
   "execution_count": 49,
   "metadata": {},
   "outputs": [
    {
     "name": "stdout",
     "output_type": "stream",
     "text": [
      "Training set accuracy:\n",
      "Percent Type I errors: 0.047599563557010366\n",
      "Percent Type II errors: 0.1778505182760502 \n",
      "\n",
      "Test set accuracy:\n",
      "Percent Type I errors: 0.06257668711656442\n",
      "Percent Type II errors: 0.19141104294478528\n"
     ]
    }
   ],
   "source": [
    "## Make later models more important\n",
    "\n",
    "## Use original x, subsampling = 0.7, learning rate = 0.05\n",
    "\n",
    "params_12 = {'n_estimators': 500,\n",
    "         'max_depth' : 2,\n",
    "          'loss': 'deviance',\n",
    "            'random_state': 448,\n",
    "             'subsample': 0.7,\n",
    "             'learning_rate': 0.05\n",
    "         }\n",
    "\n",
    "clf_12 = ensemble.GradientBoostingClassifier(**params_12)\n",
    "clf_12.fit(x_train, y_train)\n",
    "\n",
    "predict_12_train = clf_12.predict(x_train)\n",
    "predict_12_test = clf_12.predict(x_test)\n",
    "\n",
    "table_12_train = pd.crosstab(y_train, predict_12_train, margins=True)\n",
    "table_12_test = pd.crosstab(y_test, predict_12_test, margins=True)\n",
    "\n",
    "train_12_tI_errors = table_12_train.loc[0.0, 1.0] / table_12_train.loc['All','All']\n",
    "train_12_tII_errors = table_12_train.loc[1.0, 0.0] / table_12_train.loc['All', 'All']\n",
    "\n",
    "test_12_tI_errors = table_12_test.loc[0.0, 1.0]/table_12_test.loc['All', 'All']\n",
    "test_12_tII_errors = table_12_test.loc[1.0, 0.0]/table_12_test.loc['All', 'All']\n",
    "\n",
    "print((\n",
    "    'Training set accuracy:\\n'\n",
    "    'Percent Type I errors: {}\\n'\n",
    "    'Percent Type II errors: {} \\n\\n'\n",
    "    'Test set accuracy:\\n'\n",
    "    'Percent Type I errors: {}\\n'\n",
    "    'Percent Type II errors: {}'\n",
    ").format(train_12_tI_errors, train_12_tII_errors, test_12_tI_errors, test_12_tII_errors))"
   ]
  },
  {
   "cell_type": "markdown",
   "metadata": {},
   "source": [
    "## Model 13 - Subsampling, LR decrease, more iterations and reduce max depth"
   ]
  },
  {
   "cell_type": "code",
   "execution_count": 65,
   "metadata": {},
   "outputs": [
    {
     "name": "stdout",
     "output_type": "stream",
     "text": [
      "Training set accuracy:\n",
      "Percent Type I errors: 0.05005455537370431\n",
      "Percent Type II errors: 0.19435351882160393 \n",
      "\n",
      "Test set accuracy:\n",
      "Percent Type I errors: 0.05644171779141104\n",
      "Percent Type II errors: 0.2085889570552147\n"
     ]
    }
   ],
   "source": [
    "## Make later models more important\n",
    "\n",
    "## Use original x, subsampling = 0.7, learning rate = 0.05\n",
    "\n",
    "params_13 = {'n_estimators': 1000,\n",
    "         'max_depth' : 1,\n",
    "          'loss': 'deviance',\n",
    "            'random_state': 448,\n",
    "             'subsample': 0.7,\n",
    "             'learning_rate': 0.05\n",
    "         }\n",
    "\n",
    "clf_13 = ensemble.GradientBoostingClassifier(**params_13)\n",
    "clf_13.fit(x_train, y_train)\n",
    "\n",
    "predict_13_train = clf_13.predict(x_train)\n",
    "predict_13_test = clf_13.predict(x_test)\n",
    "\n",
    "table_13_train = pd.crosstab(y_train, predict_13_train, margins=True)\n",
    "table_13_test = pd.crosstab(y_test, predict_13_test, margins=True)\n",
    "\n",
    "train_13_tI_errors = table_13_train.loc[0.0, 1.0] / table_13_train.loc['All','All']\n",
    "train_13_tII_errors = table_13_train.loc[1.0, 0.0] / table_13_train.loc['All', 'All']\n",
    "\n",
    "test_13_tI_errors = table_13_test.loc[0.0, 1.0]/table_13_test.loc['All', 'All']\n",
    "test_13_tII_errors = table_13_test.loc[1.0, 0.0]/table_13_test.loc['All', 'All']\n",
    "\n",
    "print((\n",
    "    'Training set accuracy:\\n'\n",
    "    'Percent Type I errors: {}\\n'\n",
    "    'Percent Type II errors: {} \\n\\n'\n",
    "    'Test set accuracy:\\n'\n",
    "    'Percent Type I errors: {}\\n'\n",
    "    'Percent Type II errors: {}'\n",
    ").format(train_13_tI_errors, train_13_tII_errors, test_13_tI_errors, test_13_tII_errors))"
   ]
  },
  {
   "cell_type": "code",
   "execution_count": null,
   "metadata": {},
   "outputs": [],
   "source": []
  }
 ],
 "metadata": {
  "kernelspec": {
   "display_name": "Python 3",
   "language": "python",
   "name": "python3"
  },
  "language_info": {
   "codemirror_mode": {
    "name": "ipython",
    "version": 3
   },
   "file_extension": ".py",
   "mimetype": "text/x-python",
   "name": "python",
   "nbconvert_exporter": "python",
   "pygments_lexer": "ipython3",
   "version": "3.7.3"
  }
 },
 "nbformat": 4,
 "nbformat_minor": 2
}
