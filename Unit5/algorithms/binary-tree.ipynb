{
 "cells": [
  {
   "cell_type": "code",
   "execution_count": 1,
   "metadata": {},
   "outputs": [],
   "source": [
    "import numpy as np"
   ]
  },
  {
   "cell_type": "code",
   "execution_count": 2,
   "metadata": {},
   "outputs": [],
   "source": [
    "class Node:\n",
    "    def __init__(self, val):\n",
    "        self.left = None\n",
    "        self.right = None\n",
    "        self.val = val"
   ]
  },
  {
   "cell_type": "code",
   "execution_count": 28,
   "metadata": {},
   "outputs": [],
   "source": [
    "root = Node('A')\n",
    "root.left = Node('B')\n",
    "root.right = Node('C')\n",
    "\n",
    "root.left.left = Node('D')\n",
    "root.left.right = Node('E')\n",
    "root.right.left = Node('F')\n",
    "root.right.right = Node('G')\n",
    "\n",
    "root.left.left.left = Node('H')\n",
    "root.left.left.right = Node('I')\n",
    "root.left.right.left = Node('J')\n",
    "root.left.right.right = Node('K')\n",
    "root.right.left.left = Node('L')\n",
    "root.right.left.right = Node('M')\n",
    "root.right.right.left = Node('N')\n",
    "root.right.right.right = Node('O')"
   ]
  },
  {
   "cell_type": "code",
   "execution_count": 5,
   "metadata": {},
   "outputs": [
    {
     "data": {
      "text/plain": [
       "'A'"
      ]
     },
     "execution_count": 5,
     "metadata": {},
     "output_type": "execute_result"
    }
   ],
   "source": [
    "root.val"
   ]
  },
  {
   "cell_type": "code",
   "execution_count": 6,
   "metadata": {},
   "outputs": [
    {
     "data": {
      "text/plain": [
       "<__main__.Node at 0x1139c7ba8>"
      ]
     },
     "execution_count": 6,
     "metadata": {},
     "output_type": "execute_result"
    }
   ],
   "source": [
    "Node('E')"
   ]
  },
  {
   "cell_type": "code",
   "execution_count": 21,
   "metadata": {},
   "outputs": [
    {
     "data": {
      "text/plain": [
       "'B'"
      ]
     },
     "execution_count": 21,
     "metadata": {},
     "output_type": "execute_result"
    }
   ],
   "source": [
    "Node('B').val"
   ]
  },
  {
   "cell_type": "code",
   "execution_count": 48,
   "metadata": {},
   "outputs": [
    {
     "data": {
      "text/plain": [
       "False"
      ]
     },
     "execution_count": 48,
     "metadata": {},
     "output_type": "execute_result"
    }
   ],
   "source": [
    "root.left.left.left == None"
   ]
  },
  {
   "cell_type": "code",
   "execution_count": 27,
   "metadata": {},
   "outputs": [],
   "source": [
    "# This code does not work: Node('B').left.val"
   ]
  },
  {
   "cell_type": "code",
   "execution_count": 110,
   "metadata": {},
   "outputs": [],
   "source": [
    "queue = list()\n",
    "queue.append(root)\n",
    "\n",
    "def read_breadth(queue):\n",
    "    if len(queue) == 0:\n",
    "        return\n",
    "    node = queue[0]\n",
    "    queue.pop(0)\n",
    "    if node.left:\n",
    "        queue.append(node.left)\n",
    "    if node.right:\n",
    "        queue.append(node.right)\n",
    "    print(node.val)\n",
    "    read_breadth(queue)\n"
   ]
  },
  {
   "cell_type": "code",
   "execution_count": 111,
   "metadata": {},
   "outputs": [
    {
     "name": "stdout",
     "output_type": "stream",
     "text": [
      "A\n",
      "B\n",
      "C\n",
      "D\n",
      "E\n",
      "F\n",
      "G\n",
      "H\n",
      "I\n",
      "J\n",
      "K\n",
      "L\n",
      "M\n",
      "N\n",
      "O\n"
     ]
    }
   ],
   "source": [
    "read_breadth(queue)"
   ]
  },
  {
   "cell_type": "code",
   "execution_count": 112,
   "metadata": {},
   "outputs": [],
   "source": [
    "## This one had me stumped.\n",
    "## Thanks to https://www.learnsteps.com/level-order-traversal-binary-tree-python/"
   ]
  },
  {
   "cell_type": "code",
   "execution_count": 118,
   "metadata": {},
   "outputs": [],
   "source": [
    "def read_depth(root):\n",
    "    if root:\n",
    "        print(root.val)\n",
    "        read_depth(root.left)\n",
    "        read_depth(root.right)"
   ]
  },
  {
   "cell_type": "code",
   "execution_count": 119,
   "metadata": {},
   "outputs": [
    {
     "name": "stdout",
     "output_type": "stream",
     "text": [
      "A\n",
      "B\n",
      "D\n",
      "H\n",
      "I\n",
      "E\n",
      "J\n",
      "K\n",
      "C\n",
      "F\n",
      "L\n",
      "M\n",
      "G\n",
      "N\n",
      "O\n"
     ]
    }
   ],
   "source": [
    "read_depth(root)"
   ]
  },
  {
   "cell_type": "code",
   "execution_count": 129,
   "metadata": {},
   "outputs": [],
   "source": [
    "def read_right(root):\n",
    "    if root:\n",
    "        print(root.val)\n",
    "        read_right(root.right)\n",
    "        read_right(root.left)"
   ]
  },
  {
   "cell_type": "code",
   "execution_count": 130,
   "metadata": {},
   "outputs": [
    {
     "name": "stdout",
     "output_type": "stream",
     "text": [
      "A\n",
      "C\n",
      "G\n",
      "O\n",
      "N\n",
      "F\n",
      "M\n",
      "L\n",
      "B\n",
      "E\n",
      "K\n",
      "J\n",
      "D\n",
      "I\n",
      "H\n"
     ]
    }
   ],
   "source": [
    "read_right(root)"
   ]
  },
  {
   "cell_type": "code",
   "execution_count": 181,
   "metadata": {},
   "outputs": [],
   "source": [
    "## Read left to right across the bottom and then up and then up"
   ]
  },
  {
   "cell_type": "code",
   "execution_count": 146,
   "metadata": {},
   "outputs": [],
   "source": [
    "q = []\n",
    "\n",
    "def read_bottom(root):\n",
    "    \n",
    "    if root:\n",
    "        read_bottom(root.left)\n",
    "        read_bottom(root.right)\n",
    "        if root.left == None:\n",
    "            print(root.val)\n"
   ]
  },
  {
   "cell_type": "code",
   "execution_count": 147,
   "metadata": {},
   "outputs": [
    {
     "name": "stdout",
     "output_type": "stream",
     "text": [
      "H\n",
      "I\n",
      "J\n",
      "K\n",
      "L\n",
      "M\n",
      "N\n",
      "O\n"
     ]
    }
   ],
   "source": [
    "read_bottom(root)"
   ]
  },
  {
   "cell_type": "code",
   "execution_count": 157,
   "metadata": {},
   "outputs": [],
   "source": [
    "q = []\n",
    "\n",
    "def read_bottom2(root):\n",
    "    \n",
    "    if root.left == None:\n",
    "        q.append(root.val)\n",
    "    else:\n",
    "        if root:\n",
    "            read_bottom2(root.left)\n",
    "            read_bottom2(root.right)\n",
    "            \n",
    "    print(q)"
   ]
  },
  {
   "cell_type": "code",
   "execution_count": 158,
   "metadata": {},
   "outputs": [
    {
     "name": "stdout",
     "output_type": "stream",
     "text": [
      "['H']\n",
      "['H', 'I']\n",
      "['H', 'I']\n",
      "['H', 'I', 'J']\n",
      "['H', 'I', 'J', 'K']\n",
      "['H', 'I', 'J', 'K']\n",
      "['H', 'I', 'J', 'K']\n",
      "['H', 'I', 'J', 'K', 'L']\n",
      "['H', 'I', 'J', 'K', 'L', 'M']\n",
      "['H', 'I', 'J', 'K', 'L', 'M']\n",
      "['H', 'I', 'J', 'K', 'L', 'M', 'N']\n",
      "['H', 'I', 'J', 'K', 'L', 'M', 'N', 'O']\n",
      "['H', 'I', 'J', 'K', 'L', 'M', 'N', 'O']\n",
      "['H', 'I', 'J', 'K', 'L', 'M', 'N', 'O']\n",
      "['H', 'I', 'J', 'K', 'L', 'M', 'N', 'O']\n"
     ]
    }
   ],
   "source": [
    "read_bottom2(root)"
   ]
  },
  {
   "cell_type": "code",
   "execution_count": 150,
   "metadata": {},
   "outputs": [],
   "source": [
    "test_list = ['cat', 'dog']"
   ]
  },
  {
   "cell_type": "code",
   "execution_count": 152,
   "metadata": {},
   "outputs": [
    {
     "data": {
      "text/plain": [
       "True"
      ]
     },
     "execution_count": 152,
     "metadata": {},
     "output_type": "execute_result"
    }
   ],
   "source": [
    "'cat' in test_list"
   ]
  },
  {
   "cell_type": "code",
   "execution_count": 179,
   "metadata": {},
   "outputs": [],
   "source": [
    "q = []\n",
    "result = []\n",
    "\n",
    "def read_bottom3(root):\n",
    "    if root:\n",
    "        result.insert(0, root.val)\n",
    "        q.append(root.right)\n",
    "        q.append(root.left)\n",
    "        \n",
    "        new_root = q.pop(0)\n",
    "        read_bottom3(new_root)\n"
   ]
  },
  {
   "cell_type": "code",
   "execution_count": 180,
   "metadata": {},
   "outputs": [
    {
     "name": "stdout",
     "output_type": "stream",
     "text": [
      "['H', 'I', 'J', 'K', 'L', 'M', 'N', 'O', 'D', 'E', 'F', 'G', 'B', 'C', 'A']\n"
     ]
    }
   ],
   "source": [
    "read_bottom3(root)\n",
    "print(result)"
   ]
  },
  {
   "cell_type": "code",
   "execution_count": null,
   "metadata": {},
   "outputs": [],
   "source": []
  }
 ],
 "metadata": {
  "kernelspec": {
   "display_name": "Python 3",
   "language": "python",
   "name": "python3"
  },
  "language_info": {
   "codemirror_mode": {
    "name": "ipython",
    "version": 3
   },
   "file_extension": ".py",
   "mimetype": "text/x-python",
   "name": "python",
   "nbconvert_exporter": "python",
   "pygments_lexer": "ipython3",
   "version": "3.7.3"
  }
 },
 "nbformat": 4,
 "nbformat_minor": 2
}
